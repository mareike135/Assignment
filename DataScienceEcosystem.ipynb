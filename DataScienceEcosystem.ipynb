{
 "cells": [
  {
   "cell_type": "markdown",
   "id": "aead7cda-1dd7-4ecc-99f6-a4ef1eed8609",
   "metadata": {
    "tags": []
   },
   "source": [
    "# Data Science Tools and Ecosystem"
   ]
  },
  {
   "cell_type": "markdown",
   "id": "96fe856b-cc4e-4cb6-a2bb-90eea6bb148c",
   "metadata": {},
   "source": [
    "In this notebook, Data Science Tools and Ecosystem are summarized."
   ]
  },
  {
   "cell_type": "markdown",
   "id": "714062f3-a3f8-4f62-bee8-6d8df2d93c59",
   "metadata": {},
   "source": [
    "__Objectives:__\n",
    "- List popular languages for Data Science\n",
    "- List commomly used libraries for Data Science\n",
    "- Create different markdown cells "
   ]
  },
  {
   "cell_type": "markdown",
   "id": "84f14a52-2bbf-4f50-9519-e4cd97b74335",
   "metadata": {},
   "source": [
    "Some of the popular languages that Data Scientists use are:"
   ]
  },
  {
   "cell_type": "markdown",
   "id": "dfa6c49d-bf40-4be2-b8af-84a576a1fc56",
   "metadata": {},
   "source": [
    "1. Python\n",
    "2. RStudio\n",
    "3. SQL\n"
   ]
  },
  {
   "cell_type": "markdown",
   "id": "21fe8d3d-b8bd-4840-874c-7605009a89fe",
   "metadata": {},
   "source": [
    "Some of the commonly used libraries used by Data Scientists include:\n",
    "- Tensor Flow\n",
    "- Pandas\n",
    "- Seaborn"
   ]
  },
  {
   "cell_type": "markdown",
   "id": "fe0fa657-fd0a-4cff-8ad3-e662a18a89ab",
   "metadata": {},
   "source": [
    "| Data Science Tools | \n",
    "| --- | \n",
    "| Jupyter Notebook |\n",
    "| RStudio |\n",
    "| Apache Spark |\n"
   ]
  },
  {
   "cell_type": "markdown",
   "id": "b85733a8-bcd1-4331-9d1d-20531059c823",
   "metadata": {},
   "source": [
    "### Below are a few examples of evaluating arithmetic expressions in Python"
   ]
  },
  {
   "cell_type": "code",
   "execution_count": null,
   "id": "5a42d6fc-80a4-428d-9cee-7c68d4a44655",
   "metadata": {},
   "outputs": [],
   "source": [
    "# This a simple arithmetic expression to mutiply then add integers\n",
    "(3*4)+5"
   ]
  },
  {
   "cell_type": "code",
   "execution_count": null,
   "id": "0998780d-d1ac-4dad-9905-06e01c1dc1a3",
   "metadata": {},
   "outputs": [],
   "source": [
    "# This will convert 200 minutes to hours by dividing by 60\n",
    "hours_ = 200 / 60\n",
    "print (hours_)"
   ]
  },
  {
   "cell_type": "markdown",
   "id": "5d3e5dfb-c6a6-4774-8599-7eea3c7a245d",
   "metadata": {},
   "source": [
    "## Author\n",
    "Mareike"
   ]
  },
  {
   "cell_type": "code",
   "execution_count": null,
   "id": "632ed039-5b4f-416e-8785-c47d7063a28a",
   "metadata": {},
   "outputs": [],
   "source": []
  }
 ],
 "metadata": {
  "kernelspec": {
   "display_name": "Python",
   "language": "python",
   "name": "conda-env-python-py"
  },
  "language_info": {
   "name": ""
  }
 },
 "nbformat": 4,
 "nbformat_minor": 5
}
