{
 "cells": [
  {
   "cell_type": "markdown",
   "id": "ebdd1634-0ba3-406b-9091-ac0d7f2dfe85",
   "metadata": {},
   "source": [
    "# My Jupyter Notebook on IBM Watson Studio"
   ]
  },
  {
   "cell_type": "markdown",
   "id": "dfafb0e7-2449-4235-89fe-74a409c2b153",
   "metadata": {},
   "source": [
    "MAREIKE <br />\n",
    "Data Scientist"
   ]
  },
  {
   "cell_type": "markdown",
   "id": "e6f8efe8-d0ad-4fb6-9722-a8b6b5dd76c3",
   "metadata": {},
   "source": [
    "_I am interested in data science because it offers so many new possibilities to improve businesses._"
   ]
  },
  {
   "cell_type": "markdown",
   "id": "6ae32029-34c2-4d9f-93f7-855d49b4ddc9",
   "metadata": {},
   "source": [
    "The following code line calculates 2 + 3. Unfortunately I cant provide output because my kernel doesnt connect :("
   ]
  },
  {
   "cell_type": "code",
   "execution_count": null,
   "id": "f84d97f5-7b43-4d8e-9267-d23232a72486",
   "metadata": {},
   "outputs": [],
   "source": [
    "2 + 3"
   ]
  },
  {
   "cell_type": "markdown",
   "id": "7d95e4d3-3c36-4c4d-b6fe-52b92013a532",
   "metadata": {},
   "source": [
    "| Column 1 | Column 2 | Column 3 |\n",
    "| --- | --- | --- |\n",
    "| Test | Test | Test |\n",
    "\n",
    "- Bullet point 1\n",
    "- Bullet point 2\n",
    "- Bullet point 3\n",
    "\n",
    "[Google Link](https://www.google.com/)"
   ]
  },
  {
   "cell_type": "code",
   "execution_count": null,
   "id": "de5b0eec-b740-47c6-8cbe-5ffc034790bf",
   "metadata": {},
   "outputs": [],
   "source": []
  }
 ],
 "metadata": {
  "kernelspec": {
   "display_name": "Python",
   "language": "python",
   "name": "conda-env-python-py"
  },
  "language_info": {
   "name": ""
  }
 },
 "nbformat": 4,
 "nbformat_minor": 5
}
